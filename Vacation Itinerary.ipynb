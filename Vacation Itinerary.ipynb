{
 "cells": [
  {
   "cell_type": "code",
   "execution_count": 54,
   "id": "70759e3f",
   "metadata": {},
   "outputs": [],
   "source": [
    "# Dependencies and Setup\n",
    "import geoviews as gv\n",
    "import hvplot.pandas\n",
    "import pandas as pd\n",
    "import requests\n",
    "import gmaps\n",
    "# Turn off warning messages\n",
    "import warnings\n",
    "warnings.filterwarnings(\"ignore\")\n",
    "\n",
    "# Import API key\n",
    "from config import geoapify_key\n",
    "\n",
    "\n",
    "# Configure gmaps API key\n",
    "gmaps.configure(api_key=geoapify_key)"
   ]
  },
  {
   "cell_type": "code",
   "execution_count": 55,
   "id": "d049232f",
   "metadata": {},
   "outputs": [
    {
     "data": {
      "text/html": [
       "<div>\n",
       "<style scoped>\n",
       "    .dataframe tbody tr th:only-of-type {\n",
       "        vertical-align: middle;\n",
       "    }\n",
       "\n",
       "    .dataframe tbody tr th {\n",
       "        vertical-align: top;\n",
       "    }\n",
       "\n",
       "    .dataframe thead th {\n",
       "        text-align: right;\n",
       "    }\n",
       "</style>\n",
       "<table border=\"1\" class=\"dataframe\">\n",
       "  <thead>\n",
       "    <tr style=\"text-align: right;\">\n",
       "      <th></th>\n",
       "      <th>City_ID</th>\n",
       "      <th>City</th>\n",
       "      <th>Country</th>\n",
       "      <th>Max Temp</th>\n",
       "      <th>Lat</th>\n",
       "      <th>Lng</th>\n",
       "      <th>Hotel Name</th>\n",
       "    </tr>\n",
       "  </thead>\n",
       "  <tbody>\n",
       "    <tr>\n",
       "      <th>0</th>\n",
       "      <td>1</td>\n",
       "      <td>Mount Isa</td>\n",
       "      <td>AU</td>\n",
       "      <td>85.77</td>\n",
       "      <td>-20.7333</td>\n",
       "      <td>139.5000</td>\n",
       "      <td>Ibis Styles</td>\n",
       "    </tr>\n",
       "    <tr>\n",
       "      <th>1</th>\n",
       "      <td>3</td>\n",
       "      <td>Omboue</td>\n",
       "      <td>GA</td>\n",
       "      <td>83.88</td>\n",
       "      <td>-1.5746</td>\n",
       "      <td>9.2618</td>\n",
       "      <td>Georges Faustin Aurat</td>\n",
       "    </tr>\n",
       "    <tr>\n",
       "      <th>2</th>\n",
       "      <td>5</td>\n",
       "      <td>Diffa</td>\n",
       "      <td>NE</td>\n",
       "      <td>73.24</td>\n",
       "      <td>13.3154</td>\n",
       "      <td>12.6113</td>\n",
       "      <td>UNHCR guest house</td>\n",
       "    </tr>\n",
       "    <tr>\n",
       "      <th>3</th>\n",
       "      <td>10</td>\n",
       "      <td>Axim</td>\n",
       "      <td>GH</td>\n",
       "      <td>83.28</td>\n",
       "      <td>4.8699</td>\n",
       "      <td>-2.2405</td>\n",
       "      <td>Axim Beach Hotel</td>\n",
       "    </tr>\n",
       "    <tr>\n",
       "      <th>4</th>\n",
       "      <td>11</td>\n",
       "      <td>Butaritari</td>\n",
       "      <td>KI</td>\n",
       "      <td>80.78</td>\n",
       "      <td>3.0707</td>\n",
       "      <td>172.7902</td>\n",
       "      <td>No hotel found</td>\n",
       "    </tr>\n",
       "  </tbody>\n",
       "</table>\n",
       "</div>"
      ],
      "text/plain": [
       "   City_ID        City Country  Max Temp      Lat       Lng  \\\n",
       "0        1   Mount Isa      AU     85.77 -20.7333  139.5000   \n",
       "1        3      Omboue      GA     83.88  -1.5746    9.2618   \n",
       "2        5       Diffa      NE     73.24  13.3154   12.6113   \n",
       "3       10        Axim      GH     83.28   4.8699   -2.2405   \n",
       "4       11  Butaritari      KI     80.78   3.0707  172.7902   \n",
       "\n",
       "              Hotel Name  \n",
       "0            Ibis Styles  \n",
       "1  Georges Faustin Aurat  \n",
       "2      UNHCR guest house  \n",
       "3       Axim Beach Hotel  \n",
       "4         No hotel found  "
      ]
     },
     "execution_count": 55,
     "metadata": {},
     "output_type": "execute_result"
    }
   ],
   "source": [
    "# Read the WeatherPy_vacation.csv into a DataFrame\n",
    "vacation_df = pd.read_csv(\"Weatherpy_vacation.csv\")\n",
    "# Display sample data\n",
    "vacation_df.head()"
   ]
  },
  {
   "cell_type": "code",
   "execution_count": 56,
   "id": "fbe580d7",
   "metadata": {},
   "outputs": [
    {
     "data": {},
     "metadata": {},
     "output_type": "display_data"
    },
    {
     "data": {
      "application/vnd.holoviews_exec.v0+json": "",
      "text/html": [
       "<div id='2656'>\n",
       "  <div class=\"bk-root\" id=\"bcb2f833-1ac3-4236-b080-f89e47afd370\" data-root-id=\"2656\"></div>\n",
       "</div>\n",
       "<script type=\"application/javascript\">(function(root) {\n",
       "  function embed_document(root) {\n",
       "    var docs_json = {\"18a751d5-1645-4846-ae53-70ba710f0633\":{\"defs\":[{\"extends\":null,\"module\":null,\"name\":\"ReactiveHTML1\",\"overrides\":[],\"properties\":[]},{\"extends\":null,\"module\":null,\"name\":\"FlexBox1\",\"overrides\":[],\"properties\":[{\"default\":\"flex-start\",\"kind\":null,\"name\":\"align_content\"},{\"default\":\"flex-start\",\"kind\":null,\"name\":\"align_items\"},{\"default\":\"row\",\"kind\":null,\"name\":\"flex_direction\"},{\"default\":\"wrap\",\"kind\":null,\"name\":\"flex_wrap\"},{\"default\":\"flex-start\",\"kind\":null,\"name\":\"justify_content\"}]},{\"extends\":null,\"module\":null,\"name\":\"GridStack1\",\"overrides\":[],\"properties\":[{\"default\":\"warn\",\"kind\":null,\"name\":\"mode\"},{\"default\":null,\"kind\":null,\"name\":\"ncols\"},{\"default\":null,\"kind\":null,\"name\":\"nrows\"},{\"default\":true,\"kind\":null,\"name\":\"allow_resize\"},{\"default\":true,\"kind\":null,\"name\":\"allow_drag\"},{\"default\":[],\"kind\":null,\"name\":\"state\"}]},{\"extends\":null,\"module\":null,\"name\":\"click1\",\"overrides\":[],\"properties\":[{\"default\":\"\",\"kind\":null,\"name\":\"terminal_output\"},{\"default\":\"\",\"kind\":null,\"name\":\"debug_name\"},{\"default\":0,\"kind\":null,\"name\":\"clears\"}]},{\"extends\":null,\"module\":null,\"name\":\"NotificationAreaBase1\",\"overrides\":[],\"properties\":[{\"default\":\"bottom-right\",\"kind\":null,\"name\":\"position\"},{\"default\":0,\"kind\":null,\"name\":\"_clear\"}]},{\"extends\":null,\"module\":null,\"name\":\"NotificationArea1\",\"overrides\":[],\"properties\":[{\"default\":[],\"kind\":null,\"name\":\"notifications\"},{\"default\":\"bottom-right\",\"kind\":null,\"name\":\"position\"},{\"default\":0,\"kind\":null,\"name\":\"_clear\"},{\"default\":[{\"background\":\"#ffc107\",\"icon\":{\"className\":\"fas fa-exclamation-triangle\",\"color\":\"white\",\"tagName\":\"i\"},\"type\":\"warning\"},{\"background\":\"#007bff\",\"icon\":{\"className\":\"fas fa-info-circle\",\"color\":\"white\",\"tagName\":\"i\"},\"type\":\"info\"}],\"kind\":null,\"name\":\"types\"}]},{\"extends\":null,\"module\":null,\"name\":\"Notification\",\"overrides\":[],\"properties\":[{\"default\":null,\"kind\":null,\"name\":\"background\"},{\"default\":3000,\"kind\":null,\"name\":\"duration\"},{\"default\":null,\"kind\":null,\"name\":\"icon\"},{\"default\":\"\",\"kind\":null,\"name\":\"message\"},{\"default\":null,\"kind\":null,\"name\":\"notification_type\"},{\"default\":false,\"kind\":null,\"name\":\"_destroyed\"}]},{\"extends\":null,\"module\":null,\"name\":\"TemplateActions1\",\"overrides\":[],\"properties\":[{\"default\":0,\"kind\":null,\"name\":\"open_modal\"},{\"default\":0,\"kind\":null,\"name\":\"close_modal\"}]},{\"extends\":null,\"module\":null,\"name\":\"MaterialTemplateActions1\",\"overrides\":[],\"properties\":[{\"default\":0,\"kind\":null,\"name\":\"open_modal\"},{\"default\":0,\"kind\":null,\"name\":\"close_modal\"}]}],\"roots\":{\"references\":[{\"attributes\":{\"axis\":{\"id\":\"2682\"},\"coordinates\":null,\"dimension\":1,\"grid_line_color\":null,\"group\":null,\"ticker\":null},\"id\":\"2685\",\"type\":\"Grid\"},{\"attributes\":{\"fill_color\":{\"field\":\"color\",\"transform\":{\"id\":\"2732\"}},\"hatch_color\":{\"field\":\"color\",\"transform\":{\"id\":\"2732\"}},\"line_color\":{\"field\":\"color\",\"transform\":{\"id\":\"2732\"}},\"size\":{\"field\":\"size\"},\"x\":{\"field\":\"Lng\"},\"y\":{\"field\":\"Lat\"}},\"id\":\"2736\",\"type\":\"Scatter\"},{\"attributes\":{\"code\":\"\\n        var projections = Bokeh.require(\\\"core/util/projections\\\");\\n        var x = special_vars.data_x\\n        var y = special_vars.data_y\\n        if (projections.wgs84_mercator.invert == null) {\\n          var coords = projections.wgs84_mercator.inverse([x, y])\\n        } else {\\n          var coords = projections.wgs84_mercator.invert(x, y)\\n        }\\n        return \\\"\\\" + (coords[0]).toFixed(4)\\n    \"},\"id\":\"2751\",\"type\":\"CustomJSHover\"},{\"attributes\":{\"code\":\"\\n        var projections = Bokeh.require(\\\"core/util/projections\\\");\\n        var x = special_vars.data_x\\n        var y = special_vars.data_y\\n        if (projections.wgs84_mercator.invert == null) {\\n          var coords = projections.wgs84_mercator.inverse([x, y])\\n        } else {\\n          var coords = projections.wgs84_mercator.invert(x, y)\\n        }\\n        return \\\"\\\" + (coords[1]).toFixed(4)\\n    \"},\"id\":\"2752\",\"type\":\"CustomJSHover\"},{\"attributes\":{\"fill_color\":{\"field\":\"color\",\"transform\":{\"id\":\"2732\"}},\"hatch_color\":{\"field\":\"color\",\"transform\":{\"id\":\"2732\"}},\"line_color\":{\"field\":\"color\",\"transform\":{\"id\":\"2732\"}},\"size\":{\"field\":\"size\"},\"x\":{\"field\":\"Lng\"},\"y\":{\"field\":\"Lat\"}},\"id\":\"2739\",\"type\":\"Scatter\"},{\"attributes\":{\"callback\":null,\"formatters\":{\"$x\":{\"id\":\"2751\"},\"$y\":{\"id\":\"2752\"}},\"renderers\":[{\"id\":\"2741\"}],\"tags\":[\"hv_created\"],\"tooltips\":[[\"Lng\",\"$x{custom}\"],[\"Lat\",\"$y{custom}\"],[\"City\",\"@{City}\"],[\"Max Temp\",\"@{Max_Temp}\"]]},\"id\":\"2666\",\"type\":\"HoverTool\"},{\"attributes\":{},\"id\":\"2714\",\"type\":\"AllLabels\"},{\"attributes\":{\"below\":[{\"id\":\"2678\"}],\"center\":[{\"id\":\"2681\"},{\"id\":\"2685\"}],\"frame_height\":500,\"frame_width\":700,\"height\":null,\"left\":[{\"id\":\"2682\"}],\"margin\":[5,5,5,5],\"match_aspect\":true,\"min_border_bottom\":10,\"min_border_left\":10,\"min_border_right\":10,\"min_border_top\":10,\"renderers\":[{\"id\":\"2730\"},{\"id\":\"2741\"}],\"right\":[{\"id\":\"2749\"}],\"sizing_mode\":\"fixed\",\"title\":{\"id\":\"2670\"},\"toolbar\":{\"id\":\"2692\"},\"width\":null,\"x_range\":{\"id\":\"2662\"},\"x_scale\":{\"id\":\"2674\"},\"y_range\":{\"id\":\"2663\"},\"y_scale\":{\"id\":\"2676\"}},\"id\":\"2669\",\"subtype\":\"Figure\",\"type\":\"Plot\"},{\"attributes\":{\"dimension\":\"lat\"},\"id\":\"2704\",\"type\":\"MercatorTickFormatter\"},{\"attributes\":{\"dimension\":\"lat\"},\"id\":\"2703\",\"type\":\"MercatorTicker\"},{\"attributes\":{\"click_policy\":\"mute\",\"coordinates\":null,\"group\":null,\"items\":[{\"id\":\"2750\"}],\"location\":[0,0]},\"id\":\"2749\",\"type\":\"Legend\"},{\"attributes\":{\"coordinates\":null,\"group\":null,\"level\":\"glyph\",\"tile_source\":{\"id\":\"2727\"}},\"id\":\"2730\",\"type\":\"TileRenderer\"},{\"attributes\":{\"attribution\":\"&copy; <a href=\\\"https://www.openstreetmap.org/copyright\\\">OpenStreetMap</a> contributors\",\"url\":\"https://c.tile.openstreetmap.org/{Z}/{X}/{Y}.png\"},\"id\":\"2727\",\"type\":\"WMTSTileSource\"},{\"attributes\":{\"end\":14783887.161191842,\"min_interval\":5,\"reset_end\":14783887.161191842,\"reset_start\":-16839044.791796282,\"start\":-16839044.791796282,\"tags\":[[[\"Lat\",\"Lat\",null]]]},\"id\":\"2663\",\"type\":\"Range1d\"},{\"attributes\":{},\"id\":\"2686\",\"type\":\"SaveTool\"},{\"attributes\":{\"margin\":[5,5,5,5],\"name\":\"HSpacer03201\",\"sizing_mode\":\"stretch_width\"},\"id\":\"2657\",\"type\":\"Spacer\"},{\"attributes\":{\"fill_alpha\":{\"value\":0.2},\"fill_color\":{\"field\":\"color\",\"transform\":{\"id\":\"2732\"}},\"hatch_alpha\":{\"value\":0.2},\"hatch_color\":{\"field\":\"color\",\"transform\":{\"id\":\"2732\"}},\"line_alpha\":{\"value\":0.2},\"line_color\":{\"field\":\"color\",\"transform\":{\"id\":\"2732\"}},\"size\":{\"field\":\"size\"},\"x\":{\"field\":\"Lng\"},\"y\":{\"field\":\"Lat\"}},\"id\":\"2740\",\"type\":\"Scatter\"},{\"attributes\":{},\"id\":\"2687\",\"type\":\"PanTool\"},{\"attributes\":{},\"id\":\"2690\",\"type\":\"ResetTool\"},{\"attributes\":{},\"id\":\"2734\",\"type\":\"Selection\"},{\"attributes\":{\"zoom_on_axis\":false},\"id\":\"2688\",\"type\":\"WheelZoomTool\"},{\"attributes\":{\"match_aspect\":true,\"overlay\":{\"id\":\"2691\"}},\"id\":\"2689\",\"type\":\"BoxZoomTool\"},{\"attributes\":{\"coordinates\":null,\"data_source\":{\"id\":\"2733\"},\"glyph\":{\"id\":\"2736\"},\"group\":null,\"hover_glyph\":{\"id\":\"2739\"},\"muted_glyph\":{\"id\":\"2740\"},\"nonselection_glyph\":{\"id\":\"2737\"},\"selection_glyph\":{\"id\":\"2738\"},\"view\":{\"id\":\"2742\"}},\"id\":\"2741\",\"type\":\"GlyphRenderer\"},{\"attributes\":{\"factors\":[\"Mount Isa\",\"Omboue\",\"Diffa\",\"Axim\",\"Butaritari\",\"Vaini\",\"Busselton\",\"Bredasdorp\",\"Hermanus\",\"Grand Gaube\",\"Cayenne\",\"Abu Dhabi\",\"Rikitea\",\"Hilo\",\"East London\",\"Lethem\",\"Angoche\",\"Acapulco\",\"Manokwari\",\"New Norfolk\",\"Puerto Ayora\",\"Port-Gentil\",\"Hambantota\",\"Hobart\",\"Kayes\",\"Pemangkat\",\"Mvuma\",\"Kirakira\",\"Poum\",\"Port Alfred\",\"Howard Springs\",\"Abeokuta\",\"Touros\",\"Calabozo\",\"Hirara\",\"Mongo\",\"Saint-Philippe\",\"Pamekasan\",\"Maceio\",\"Dong Hoi\",\"Benguela\",\"Gold Coast\",\"Guaruja\",\"Atuona\",\"Carnarvon\",\"Ballina\",\"Georgetown\",\"Kavaratti\",\"Cabedelo\",\"Atambua\",\"Kruisfontein\",\"Hiriyur\",\"Beloha\",\"Cape Town\",\"Bengkulu\",\"Alofi\",\"Kaliua\",\"Sinnamary\",\"Tenenkou\",\"Sibu\",\"Souillac\",\"Kieta\",\"Sumbe\",\"Victoria\",\"Padang\",\"Sao Jose Da Coroa Grande\",\"Dumjor\",\"La Asuncion\",\"Mahebourg\",\"Rangkasbitung\",\"Bathsheba\",\"Lorengau\",\"Oistins\",\"Hobyo\",\"Uaua\",\"Beoumi\",\"Hithadhoo\",\"Arraial Do Cabo\",\"San Juan\",\"Kon Tum\",\"Sibolga\",\"Paredon\",\"Garissa\",\"Rabak\",\"Inirida\",\"Kanye\",\"Kihei\",\"Palu\",\"Langsa\",\"Sao Filipe\",\"Itoman\",\"Kununurra\",\"Port Elizabeth\",\"Nishihara\",\"Aden\",\"Dingle\",\"Vao\",\"Sao Jose Do Belmonte\",\"Dwarka\",\"Kavieng\",\"Jega\",\"Davila\",\"Hatta\",\"Bandarbeyla\",\"Rameswaram\",\"Ngorongoro\",\"Cockburn Town\",\"Antalaha\",\"Bonthe\",\"Limulunga\",\"Quatre Cocos\",\"Karema\",\"Gweta\",\"Camacari\",\"Hojai\",\"Yenagoa\",\"Tezu\",\"Lazaro Cardenas\",\"Tautira\",\"Kahului\",\"Tucuma\",\"Galesong\",\"Faanui\",\"Manta\",\"Bambous Virieux\",\"Gizo\",\"Cuamba\",\"Kuching\",\"Sainte-Marie\",\"Banda Aceh\",\"Trairi\",\"Kisesa\",\"Port Blair\",\"Ndago\",\"Jinji\",\"Bachaquero\",\"Kathu\",\"Ilebo\",\"Gidam\",\"Pyay\",\"Narrabri\",\"Srandakan\",\"Isangel\",\"Kismayo\",\"Cidreira\",\"Ewa Beach\",\"Trat\",\"Mana\",\"Puerto Escondido\",\"Doha\",\"Arenal\",\"Geraldton\",\"Mtwara\",\"Savannah Bight\",\"Umm Kaddadah\",\"Labuhan\",\"Giyani\",\"Moron\",\"Burhanpur\",\"Bouna\",\"Soyo\",\"Kidal\",\"Bogande\",\"Acajutla\",\"Buchanan\",\"Biritiba-Mirim\",\"Meulaboh\",\"Manado\",\"Batemans Bay\",\"Nelson Bay\",\"Ugoofaaru\",\"Flinders\",\"Puerto Quijarro\",\"Champerico\",\"Oudtshoorn\",\"Salem\",\"Les Cayes\",\"Pundaguitan\",\"Vila Do Maio\",\"Ambulu\",\"Praia\",\"Aripuana\",\"Vanimo\",\"Adilabad\",\"Buraydah\",\"Gunjur\",\"Bundaberg\",\"Kimbe\",\"Namibe\",\"Saint-Joseph\",\"Tura\",\"Natal\",\"Namatanai\",\"Ifakara\",\"Bara\",\"Balabac\",\"Sindgi\",\"Harper\",\"Pitimbu\",\"Diamantino\",\"Cururupu\",\"Karratha\",\"Caucaia\",\"Mocuba\",\"Lakatoro\",\"Sal Rei\",\"Aquiraz\",\"Bubaque\",\"Sulangan\",\"San Policarpo\",\"Imbituba\",\"Salina Cruz\",\"Taoudenni\",\"Kutum\",\"Arlit\",\"Bontang\",\"Noumea\",\"Sola\",\"Auki\",\"Pringsewu\",\"Port Moresby\",\"Cacahuatepec\",\"Ambilobe\",\"Mindelo\",\"Portel\",\"Aitape\",\"Kendari\",\"Mporokoso\",\"Eyl\",\"Kyaikkami\",\"Humaita\",\"Tabou\",\"Kwinana\",\"Bodden Town\",\"Moroni\",\"Belmonte\",\"Lusambo\",\"Acu\",\"Limbang\",\"Teahupoo\",\"Marang\",\"Salalah\",\"Nieuw Nickerie\",\"La Orilla\",\"Puebloviejo\",\"Jijiga\",\"Bhandaria\",\"Pathein\",\"Bandiagara\",\"Bambanglipuro\",\"Mattru\",\"Takoradi\",\"Mfou\",\"Prado\",\"Conakry\",\"Itarema\",\"Alugan\",\"Uige\",\"Basco\",\"Puerto Castilla\"],\"palette\":[\"#1f77b3\",\"#ff7e0e\",\"#2ba02b\",\"#d62628\",\"#9367bc\",\"#8c564b\",\"#e277c1\",\"#7e7e7e\",\"#bcbc21\",\"#16bdcf\",\"#3a0182\",\"#004201\",\"#0fffa8\",\"#5d003f\",\"#bcbcff\",\"#d8afa1\",\"#b80080\",\"#004d52\",\"#6b6400\",\"#7c0100\",\"#6026ff\",\"#ffff9a\",\"#564964\",\"#8cb893\",\"#93fbff\",\"#018267\",\"#90ff00\",\"#8200a0\",\"#ac8944\",\"#5b3400\",\"#ffbff2\",\"#ff6e75\",\"#798cff\",\"#dd00ff\",\"#505646\",\"#004489\",\"#ffbf60\",\"#ff018c\",\"#bdc8cf\",\"#af97b5\",\"#b65600\",\"#017000\",\"#cd87ff\",\"#1cd646\",\"#bfebc3\",\"#7997b5\",\"#a56089\",\"#6e8956\",\"#bc7c75\",\"#8a2844\",\"#00acff\",\"#8ed4ff\",\"#4b6d77\",\"#00d4b1\",\"#9300f2\",\"#8a9500\",\"#5d5b9e\",\"#fddfba\",\"#00939e\",\"#ffdb00\",\"#00aa79\",\"#520067\",\"#000091\",\"#0a5d3d\",\"#a5e275\",\"#623b41\",\"#c6c689\",\"#ff9eb5\",\"#cd4f6b\",\"#ff07d6\",\"#8a3a05\",\"#7e3d70\",\"#ff4901\",\"#602ba5\",\"#1c00ff\",\"#e6dfff\",\"#aa3baf\",\"#d89c00\",\"#a3a39e\",\"#3f69ff\",\"#46490c\",\"#7b6985\",\"#6b978c\",\"#ff9a75\",\"#835bff\",\"#7c6b46\",\"#80b654\",\"#bc0049\",\"#fd93ff\",\"#5d0018\",\"#89d1d1\",\"#9c8cd3\",\"#da6d42\",\"#8a5700\",\"#3b5069\",\"#4b6b3b\",\"#edcfd8\",\"#cfedff\",\"#aa1500\",\"#dfff4f\",\"#ff2a56\",\"#d1499e\",\"#707cb8\",\"#598000\",\"#00e4fd\",\"#774b95\",\"#67d48c\",\"#3d3a72\",\"#ac413f\",\"#d6a166\",\"#c169cd\",\"#69595d\",\"#87aced\",\"#a0a569\",\"#d1aae6\",\"#870062\",\"#00fddb\",\"#672818\",\"#b342ff\",\"#0e59c4\",\"#168742\",\"#90d300\",\"#cd7900\",\"#f959ff\",\"#5b7466\",\"#8eaeb3\",\"#9c7c8c\",\"#4600c6\",\"#6b4d2d\",\"#a56d46\",\"#9e8972\",\"#a8afca\",\"#cd8ca7\",\"#00fd64\",\"#917900\",\"#ff62a1\",\"#f4ffd8\",\"#018cf0\",\"#13aca0\",\"#5b2d59\",\"#89859e\",\"#cfccba\",\"#d4afc4\",\"#dbdd6d\",\"#cffff4\",\"#006485\",\"#006962\",\"#a84167\",\"#2d97c4\",\"#a874ff\",\"#26ba5d\",\"#57b600\",\"#caffa7\",\"#a379aa\",\"#ffbc93\",\"#89e2c1\",\"#0fc8ff\",\"#d400c4\",\"#626d89\",\"#69858e\",\"#4b4d52\",\"#aa6067\",\"#79b5d4\",\"#2b5916\",\"#9a0024\",\"#bdd1f2\",\"#896e67\",\"#69a56b\",\"#855467\",\"#aecdba\",\"#87997e\",\"#cadb00\",\"#9a0390\",\"#ebbc1a\",\"#eb9cd1\",\"#70006e\",\"#b1a131\",\"#ca6b93\",\"#4146a3\",\"#e48c89\",\"#d44400\",\"#c68aca\",\"#b69597\",\"#d41f75\",\"#724bcc\",\"#674d00\",\"#672138\",\"#38564f\",\"#6ebaaa\",\"#853a31\",\"#a5d397\",\"#b8af8e\",\"#d8e4df\",\"#aa00df\",\"#cac1db\",\"#ffdf8c\",\"#e2524d\",\"#66696e\",\"#ff001c\",\"#522d72\",\"#4d906b\",\"#a86d11\",\"#ff9e26\",\"#5ea3af\",\"#c88556\",\"#915997\",\"#a3a1ff\",\"#fdbaba\",\"#242a87\",\"#dbe6a8\",\"#97f2a7\",\"#6793d6\",\"#ba5b3f\",\"#3a5d91\",\"#364f2f\",\"#267c95\",\"#89959a\",\"#cfb356\",\"#004664\",\"#5e5d2f\",\"#8e8e41\",\"#ac3f13\",\"#69953b\",\"#a13d85\",\"#bfb6ba\",\"#acc667\",\"#6469cf\",\"#91af00\",\"#2be2da\",\"#016e36\",\"#ff7952\",\"#42807e\",\"#4fe800\",\"#995428\",\"#5d0a00\",\"#a30057\",\"#0c8700\",\"#5982a7\",\"#ffebfb\",\"#4b6901\",\"#8775d4\",\"#e6c6ff\",\"#a5ffda\",\"#d86e77\",\"#df014b\",\"#69675b\",\"#776ba1\",\"#7e8067\",\"#594685\",\"#0000ca\",\"#7c002a\",\"#97ff72\",\"#b5e2e1\",\"#db52c8\",\"#777734\",\"#57bd8e\",\"#1f77b3\",\"#ff7e0e\",\"#2ba02b\",\"#d62628\"]},\"id\":\"2732\",\"type\":\"CategoricalColorMapper\"},{\"attributes\":{\"source\":{\"id\":\"2733\"}},\"id\":\"2742\",\"type\":\"CDSView\"},{\"attributes\":{\"coordinates\":null,\"group\":null,\"text_color\":\"black\",\"text_font_size\":\"12pt\"},\"id\":\"2670\",\"type\":\"Title\"},{\"attributes\":{\"label\":{\"field\":\"color\"},\"renderers\":[{\"id\":\"2741\"}]},\"id\":\"2750\",\"type\":\"LegendItem\"},{\"attributes\":{},\"id\":\"2707\",\"type\":\"AllLabels\"},{\"attributes\":{},\"id\":\"2746\",\"type\":\"UnionRenderers\"},{\"attributes\":{},\"id\":\"2674\",\"type\":\"LinearScale\"},{\"attributes\":{\"dimension\":\"lon\"},\"id\":\"2701\",\"type\":\"MercatorTicker\"},{\"attributes\":{\"tools\":[{\"id\":\"2666\"},{\"id\":\"2686\"},{\"id\":\"2687\"},{\"id\":\"2688\"},{\"id\":\"2689\"},{\"id\":\"2690\"}]},\"id\":\"2692\",\"type\":\"Toolbar\"},{\"attributes\":{\"axis\":{\"id\":\"2678\"},\"coordinates\":null,\"grid_line_color\":null,\"group\":null,\"ticker\":null},\"id\":\"2681\",\"type\":\"Grid\"},{\"attributes\":{\"fill_alpha\":{\"value\":0.1},\"fill_color\":{\"field\":\"color\",\"transform\":{\"id\":\"2732\"}},\"hatch_alpha\":{\"value\":0.1},\"hatch_color\":{\"field\":\"color\",\"transform\":{\"id\":\"2732\"}},\"line_alpha\":{\"value\":0.1},\"line_color\":{\"field\":\"color\",\"transform\":{\"id\":\"2732\"}},\"size\":{\"field\":\"size\"},\"x\":{\"field\":\"Lng\"},\"y\":{\"field\":\"Lat\"}},\"id\":\"2737\",\"type\":\"Scatter\"},{\"attributes\":{\"margin\":[5,5,5,5],\"name\":\"HSpacer03202\",\"sizing_mode\":\"stretch_width\"},\"id\":\"2759\",\"type\":\"Spacer\"},{\"attributes\":{\"data\":{\"City\":[\"Mount Isa\",\"Omboue\",\"Diffa\",\"Axim\",\"Butaritari\",\"Vaini\",\"Busselton\",\"Bredasdorp\",\"Hermanus\",\"Grand Gaube\",\"Cayenne\",\"Abu Dhabi\",\"Rikitea\",\"Hilo\",\"East London\",\"Lethem\",\"Angoche\",\"Acapulco\",\"Manokwari\",\"New Norfolk\",\"Puerto Ayora\",\"Port-Gentil\",\"Hambantota\",\"Hobart\",\"Kayes\",\"Pemangkat\",\"Mvuma\",\"Kirakira\",\"Poum\",\"Port Alfred\",\"Howard Springs\",\"Abeokuta\",\"Touros\",\"Calabozo\",\"Hirara\",\"Mongo\",\"Saint-Philippe\",\"Pamekasan\",\"Maceio\",\"Dong Hoi\",\"Benguela\",\"Gold Coast\",\"Guaruja\",\"Atuona\",\"Carnarvon\",\"Ballina\",\"Georgetown\",\"Kavaratti\",\"Cabedelo\",\"Atambua\",\"Kruisfontein\",\"Hiriyur\",\"Beloha\",\"Cape Town\",\"Bengkulu\",\"Alofi\",\"Kaliua\",\"Sinnamary\",\"Tenenkou\",\"Sibu\",\"Souillac\",\"Kieta\",\"Sumbe\",\"Victoria\",\"Padang\",\"Sao Jose Da Coroa Grande\",\"Dumjor\",\"La Asuncion\",\"Mahebourg\",\"Rangkasbitung\",\"Bathsheba\",\"Lorengau\",\"Oistins\",\"Hobyo\",\"Uaua\",\"Beoumi\",\"Hithadhoo\",\"Arraial Do Cabo\",\"San Juan\",\"Kon Tum\",\"Sibolga\",\"Paredon\",\"Garissa\",\"Rabak\",\"Inirida\",\"Kanye\",\"Kihei\",\"Palu\",\"Langsa\",\"Sao Filipe\",\"Itoman\",\"Kununurra\",\"Port Elizabeth\",\"Nishihara\",\"Aden\",\"Dingle\",\"Vao\",\"Sao Jose Do Belmonte\",\"Dwarka\",\"Kavieng\",\"Jega\",\"Davila\",\"Hatta\",\"Bandarbeyla\",\"Rameswaram\",\"Ngorongoro\",\"Cockburn Town\",\"Antalaha\",\"Bonthe\",\"Limulunga\",\"Quatre Cocos\",\"Karema\",\"Gweta\",\"Camacari\",\"Hojai\",\"Yenagoa\",\"Tezu\",\"Lazaro Cardenas\",\"Tautira\",\"Kahului\",\"Tucuma\",\"Galesong\",\"Faanui\",\"Manta\",\"Bambous Virieux\",\"Gizo\",\"Cuamba\",\"Kuching\",\"Sainte-Marie\",\"Banda Aceh\",\"Trairi\",\"Kisesa\",\"Port Blair\",\"Ndago\",\"Jinji\",\"Bachaquero\",\"Kathu\",\"Ilebo\",\"Gidam\",\"Pyay\",\"Narrabri\",\"Srandakan\",\"Isangel\",\"Kismayo\",\"Cidreira\",\"Ewa Beach\",\"Trat\",\"Mana\",\"Puerto Escondido\",\"Doha\",\"Arenal\",\"Geraldton\",\"Mtwara\",\"Savannah Bight\",\"Umm Kaddadah\",\"Labuhan\",\"Giyani\",\"Moron\",\"Burhanpur\",\"Bouna\",\"Soyo\",\"Kidal\",\"Bogande\",\"Acajutla\",\"Buchanan\",\"Biritiba-Mirim\",\"Meulaboh\",\"Manado\",\"Batemans Bay\",\"Nelson Bay\",\"Ugoofaaru\",\"Flinders\",\"Puerto Quijarro\",\"Champerico\",\"Oudtshoorn\",\"Salem\",\"Les Cayes\",\"Pundaguitan\",\"Vila Do Maio\",\"Ambulu\",\"Praia\",\"Aripuana\",\"Vanimo\",\"Adilabad\",\"Buraydah\",\"Gunjur\",\"Bundaberg\",\"Kimbe\",\"Namibe\",\"Saint-Joseph\",\"Tura\",\"Natal\",\"Namatanai\",\"Ifakara\",\"Bara\",\"Balabac\",\"Sindgi\",\"Harper\",\"Pitimbu\",\"Diamantino\",\"Cururupu\",\"Karratha\",\"Caucaia\",\"Mocuba\",\"Lakatoro\",\"Sal Rei\",\"Aquiraz\",\"Bubaque\",\"Sulangan\",\"San Policarpo\",\"Imbituba\",\"Salina Cruz\",\"Taoudenni\",\"Kutum\",\"Arlit\",\"Bontang\",\"Noumea\",\"Sola\",\"Auki\",\"Pringsewu\",\"Port Moresby\",\"Cacahuatepec\",\"Ambilobe\",\"Mindelo\",\"Portel\",\"Aitape\",\"Kendari\",\"Mporokoso\",\"Eyl\",\"Kyaikkami\",\"Humaita\",\"Tabou\",\"Kwinana\",\"Bodden Town\",\"Moroni\",\"Belmonte\",\"Lusambo\",\"Acu\",\"Limbang\",\"Teahupoo\",\"Marang\",\"Salalah\",\"Nieuw Nickerie\",\"La Orilla\",\"Puebloviejo\",\"Jijiga\",\"Bhandaria\",\"Pathein\",\"Bandiagara\",\"Bambanglipuro\",\"Mattru\",\"Takoradi\",\"Mfou\",\"Prado\",\"Conakry\",\"Itarema\",\"Alugan\",\"Uige\",\"Basco\",\"Puerto Castilla\"],\"Lat\":{\"__ndarray__\":\"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\",\"dtype\":\"float64\",\"order\":\"little\",\"shape\":[260]},\"Lng\":{\"__ndarray__\":\"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\",\"dtype\":\"float64\",\"order\":\"little\",\"shape\":[260]},\"Max_Temp\":{\"__ndarray__\":\"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\",\"dtype\":\"float64\",\"order\":\"little\",\"shape\":[260]},\"color\":[\"Mount Isa\",\"Omboue\",\"Diffa\",\"Axim\",\"Butaritari\",\"Vaini\",\"Busselton\",\"Bredasdorp\",\"Hermanus\",\"Grand Gaube\",\"Cayenne\",\"Abu Dhabi\",\"Rikitea\",\"Hilo\",\"East London\",\"Lethem\",\"Angoche\",\"Acapulco\",\"Manokwari\",\"New Norfolk\",\"Puerto Ayora\",\"Port-Gentil\",\"Hambantota\",\"Hobart\",\"Kayes\",\"Pemangkat\",\"Mvuma\",\"Kirakira\",\"Poum\",\"Port Alfred\",\"Howard Springs\",\"Abeokuta\",\"Touros\",\"Calabozo\",\"Hirara\",\"Mongo\",\"Saint-Philippe\",\"Pamekasan\",\"Maceio\",\"Dong Hoi\",\"Benguela\",\"Gold Coast\",\"Guaruja\",\"Atuona\",\"Carnarvon\",\"Ballina\",\"Georgetown\",\"Kavaratti\",\"Cabedelo\",\"Atambua\",\"Kruisfontein\",\"Hiriyur\",\"Beloha\",\"Cape Town\",\"Bengkulu\",\"Alofi\",\"Kaliua\",\"Sinnamary\",\"Tenenkou\",\"Sibu\",\"Souillac\",\"Kieta\",\"Sumbe\",\"Victoria\",\"Padang\",\"Sao Jose Da Coroa Grande\",\"Dumjor\",\"La Asuncion\",\"Mahebourg\",\"Rangkasbitung\",\"Bathsheba\",\"Lorengau\",\"Oistins\",\"Hobyo\",\"Uaua\",\"Beoumi\",\"Hithadhoo\",\"Arraial Do Cabo\",\"San Juan\",\"Kon Tum\",\"Sibolga\",\"Paredon\",\"Garissa\",\"Rabak\",\"Inirida\",\"Kanye\",\"Kihei\",\"Palu\",\"Langsa\",\"Sao Filipe\",\"Itoman\",\"Kununurra\",\"Port Elizabeth\",\"Nishihara\",\"Aden\",\"Dingle\",\"Vao\",\"Sao Jose Do Belmonte\",\"Dwarka\",\"Kavieng\",\"Jega\",\"Davila\",\"Hatta\",\"Bandarbeyla\",\"Rameswaram\",\"Ngorongoro\",\"Cockburn Town\",\"Antalaha\",\"Bonthe\",\"Limulunga\",\"Quatre Cocos\",\"Karema\",\"Gweta\",\"Camacari\",\"Hojai\",\"Yenagoa\",\"Tezu\",\"Lazaro Cardenas\",\"Tautira\",\"Kahului\",\"Tucuma\",\"Galesong\",\"Faanui\",\"Manta\",\"Bambous Virieux\",\"Gizo\",\"Cuamba\",\"Kuching\",\"Sainte-Marie\",\"Banda Aceh\",\"Trairi\",\"Kisesa\",\"Port Blair\",\"Ndago\",\"Jinji\",\"Bachaquero\",\"Kathu\",\"Ilebo\",\"Gidam\",\"Pyay\",\"Narrabri\",\"Srandakan\",\"Isangel\",\"Kismayo\",\"Cidreira\",\"Ewa Beach\",\"Trat\",\"Mana\",\"Puerto Escondido\",\"Doha\",\"Arenal\",\"Geraldton\",\"Mtwara\",\"Savannah Bight\",\"Umm Kaddadah\",\"Labuhan\",\"Giyani\",\"Moron\",\"Burhanpur\",\"Bouna\",\"Soyo\",\"Kidal\",\"Bogande\",\"Acajutla\",\"Buchanan\",\"Biritiba-Mirim\",\"Meulaboh\",\"Manado\",\"Batemans Bay\",\"Nelson Bay\",\"Ugoofaaru\",\"Flinders\",\"Puerto Quijarro\",\"Champerico\",\"Oudtshoorn\",\"Salem\",\"Les Cayes\",\"Pundaguitan\",\"Vila Do Maio\",\"Ambulu\",\"Praia\",\"Aripuana\",\"Vanimo\",\"Adilabad\",\"Buraydah\",\"Gunjur\",\"Bundaberg\",\"Kimbe\",\"Namibe\",\"Saint-Joseph\",\"Tura\",\"Natal\",\"Namatanai\",\"Ifakara\",\"Bara\",\"Balabac\",\"Sindgi\",\"Harper\",\"Pitimbu\",\"Diamantino\",\"Cururupu\",\"Karratha\",\"Caucaia\",\"Mocuba\",\"Lakatoro\",\"Sal Rei\",\"Aquiraz\",\"Bubaque\",\"Sulangan\",\"San Policarpo\",\"Imbituba\",\"Salina Cruz\",\"Taoudenni\",\"Kutum\",\"Arlit\",\"Bontang\",\"Noumea\",\"Sola\",\"Auki\",\"Pringsewu\",\"Port Moresby\",\"Cacahuatepec\",\"Ambilobe\",\"Mindelo\",\"Portel\",\"Aitape\",\"Kendari\",\"Mporokoso\",\"Eyl\",\"Kyaikkami\",\"Humaita\",\"Tabou\",\"Kwinana\",\"Bodden Town\",\"Moroni\",\"Belmonte\",\"Lusambo\",\"Acu\",\"Limbang\",\"Teahupoo\",\"Marang\",\"Salalah\",\"Nieuw Nickerie\",\"La Orilla\",\"Puebloviejo\",\"Jijiga\",\"Bhandaria\",\"Pathein\",\"Bandiagara\",\"Bambanglipuro\",\"Mattru\",\"Takoradi\",\"Mfou\",\"Prado\",\"Conakry\",\"Itarema\",\"Alugan\",\"Uige\",\"Basco\",\"Puerto Castilla\"],\"size\":{\"__ndarray__\":\"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\",\"dtype\":\"float64\",\"order\":\"little\",\"shape\":[260]}},\"selected\":{\"id\":\"2734\"},\"selection_policy\":{\"id\":\"2746\"}},\"id\":\"2733\",\"type\":\"ColumnDataSource\"},{\"attributes\":{},\"id\":\"2676\",\"type\":\"LinearScale\"},{\"attributes\":{\"bottom_units\":\"screen\",\"coordinates\":null,\"fill_alpha\":0.5,\"fill_color\":\"lightgrey\",\"group\":null,\"left_units\":\"screen\",\"level\":\"overlay\",\"line_alpha\":1.0,\"line_color\":\"black\",\"line_dash\":[4,4],\"line_width\":2,\"right_units\":\"screen\",\"syncable\":false,\"top_units\":\"screen\"},\"id\":\"2691\",\"type\":\"BoxAnnotation\"},{\"attributes\":{\"children\":[{\"id\":\"2657\"},{\"id\":\"2669\"},{\"id\":\"2759\"}],\"margin\":[0,0,0,0],\"name\":\"Row03197\",\"tags\":[\"embedded\"]},\"id\":\"2656\",\"type\":\"Row\"},{\"attributes\":{\"axis_label\":\"y\",\"coordinates\":null,\"formatter\":{\"id\":\"2704\"},\"group\":null,\"major_label_policy\":{\"id\":\"2714\"},\"ticker\":{\"id\":\"2703\"}},\"id\":\"2682\",\"type\":\"LinearAxis\"},{\"attributes\":{\"axis_label\":\"x\",\"coordinates\":null,\"formatter\":{\"id\":\"2702\"},\"group\":null,\"major_label_policy\":{\"id\":\"2707\"},\"ticker\":{\"id\":\"2701\"}},\"id\":\"2678\",\"type\":\"LinearAxis\"},{\"attributes\":{\"dimension\":\"lon\"},\"id\":\"2702\",\"type\":\"MercatorTickFormatter\"},{\"attributes\":{\"end\":22001923.512634873,\"min_interval\":5,\"reset_end\":22001923.512634873,\"reset_start\":-22270181.221548494,\"start\":-22270181.221548494,\"tags\":[[[\"Lng\",\"Lng\",null]]]},\"id\":\"2662\",\"type\":\"Range1d\"},{\"attributes\":{\"fill_color\":{\"field\":\"color\",\"transform\":{\"id\":\"2732\"}},\"hatch_color\":{\"field\":\"color\",\"transform\":{\"id\":\"2732\"}},\"line_color\":{\"field\":\"color\",\"transform\":{\"id\":\"2732\"}},\"size\":{\"field\":\"size\"},\"x\":{\"field\":\"Lng\"},\"y\":{\"field\":\"Lat\"}},\"id\":\"2738\",\"type\":\"Scatter\"}],\"root_ids\":[\"2656\"]},\"title\":\"Bokeh Application\",\"version\":\"2.4.3\"}};\n",
       "    var render_items = [{\"docid\":\"18a751d5-1645-4846-ae53-70ba710f0633\",\"root_ids\":[\"2656\"],\"roots\":{\"2656\":\"bcb2f833-1ac3-4236-b080-f89e47afd370\"}}];\n",
       "    root.Bokeh.embed.embed_items_notebook(docs_json, render_items);\n",
       "  }\n",
       "  if (root.Bokeh !== undefined && root.Bokeh.Panel !== undefined) {\n",
       "    embed_document(root);\n",
       "  } else {\n",
       "    var attempts = 0;\n",
       "    var timer = setInterval(function(root) {\n",
       "      if (root.Bokeh !== undefined && root.Bokeh.Panel !== undefined) {\n",
       "        clearInterval(timer);\n",
       "        embed_document(root);\n",
       "      } else if (document.readyState == \"complete\") {\n",
       "        attempts++;\n",
       "        if (attempts > 200) {\n",
       "          clearInterval(timer);\n",
       "          console.log(\"Bokeh: ERROR: Unable to run BokehJS code because BokehJS library is missing\");\n",
       "        }\n",
       "      }\n",
       "    }, 25, root)\n",
       "  }\n",
       "})(window);</script>"
      ],
      "text/plain": [
       ":Overlay\n",
       "   .Tiles.I  :Tiles   [x,y]\n",
       "   .Points.I :Points   [Lng,Lat]   (City,Max Temp)"
      ]
     },
     "execution_count": 56,
     "metadata": {
      "application/vnd.holoviews_exec.v0+json": {
       "id": "2656"
      }
     },
     "output_type": "execute_result"
    }
   ],
   "source": [
    "# Configure the map plot_3\n",
    "\n",
    "\n",
    "vacation_map =vacation_df.hvplot.points(\n",
    "    \"Lng\",\n",
    "    \"Lat\",\n",
    "    geo = True,\n",
    "    tiles = \"OSM\",\n",
    "    frame_width = 700,\n",
    "    frame_height = 500,\n",
    "    size = \"Max Temp\",\n",
    "    scale = 1,\n",
    "    color = \"City\",\n",
    ")\n",
    "\n",
    "# Display the map plot\n",
    "vacation_map\n",
    "\n",
    "# Display the map"
   ]
  },
  {
   "cell_type": "code",
   "execution_count": 57,
   "id": "77cee47d",
   "metadata": {},
   "outputs": [],
   "source": [
    "# Create DataFrames for each city by filtering the 'vacation_df' using the loc method\n",
    "vacation_start =  vacation_df.loc[vacation_df[\"City\"] ==\"Aripuana\"]\n",
    "vacation_end =  vacation_df.loc[vacation_df[\"City\"]  == \"Aripuana\"]\n",
    "vacation_stop1 =  vacation_df.loc[vacation_df[\"City\"]  == \"Puerto Quijarro\"]\n",
    "vacation_stop2 =  vacation_df.loc[vacation_df[\"City\"]  == \"Humaita\"]\n",
    "vacation_stop3 =   vacation_df.loc[vacation_df[\"City\"]  == \"Diamantino\"]"
   ]
  },
  {
   "cell_type": "code",
   "execution_count": 58,
   "id": "55fc92dd",
   "metadata": {},
   "outputs": [
    {
     "data": {
      "text/html": [
       "<div>\n",
       "<style scoped>\n",
       "    .dataframe tbody tr th:only-of-type {\n",
       "        vertical-align: middle;\n",
       "    }\n",
       "\n",
       "    .dataframe tbody tr th {\n",
       "        vertical-align: top;\n",
       "    }\n",
       "\n",
       "    .dataframe thead th {\n",
       "        text-align: right;\n",
       "    }\n",
       "</style>\n",
       "<table border=\"1\" class=\"dataframe\">\n",
       "  <thead>\n",
       "    <tr style=\"text-align: right;\">\n",
       "      <th></th>\n",
       "      <th>City_ID</th>\n",
       "      <th>City</th>\n",
       "      <th>Country</th>\n",
       "      <th>Max Temp</th>\n",
       "      <th>Lat</th>\n",
       "      <th>Lng</th>\n",
       "      <th>Hotel Name</th>\n",
       "    </tr>\n",
       "  </thead>\n",
       "  <tbody>\n",
       "    <tr>\n",
       "      <th>0</th>\n",
       "      <td>493</td>\n",
       "      <td>Aripuana</td>\n",
       "      <td>BR</td>\n",
       "      <td>70.23</td>\n",
       "      <td>-9.1667</td>\n",
       "      <td>-60.6333</td>\n",
       "      <td>No hotel found</td>\n",
       "    </tr>\n",
       "    <tr>\n",
       "      <th>1</th>\n",
       "      <td>493</td>\n",
       "      <td>Aripuana</td>\n",
       "      <td>BR</td>\n",
       "      <td>70.23</td>\n",
       "      <td>-9.1667</td>\n",
       "      <td>-60.6333</td>\n",
       "      <td>No hotel found</td>\n",
       "    </tr>\n",
       "    <tr>\n",
       "      <th>2</th>\n",
       "      <td>463</td>\n",
       "      <td>Puerto Quijarro</td>\n",
       "      <td>BO</td>\n",
       "      <td>71.87</td>\n",
       "      <td>-17.7833</td>\n",
       "      <td>-57.7667</td>\n",
       "      <td>No hotel found</td>\n",
       "    </tr>\n",
       "    <tr>\n",
       "      <th>3</th>\n",
       "      <td>628</td>\n",
       "      <td>Humaita</td>\n",
       "      <td>BR</td>\n",
       "      <td>70.25</td>\n",
       "      <td>-7.5061</td>\n",
       "      <td>-63.0208</td>\n",
       "      <td>Humaita Quality Hotel</td>\n",
       "    </tr>\n",
       "    <tr>\n",
       "      <th>4</th>\n",
       "      <td>543</td>\n",
       "      <td>Diamantino</td>\n",
       "      <td>BR</td>\n",
       "      <td>70.11</td>\n",
       "      <td>-14.4086</td>\n",
       "      <td>-56.4461</td>\n",
       "      <td>Hotel kayaby</td>\n",
       "    </tr>\n",
       "  </tbody>\n",
       "</table>\n",
       "</div>"
      ],
      "text/plain": [
       "   City_ID             City Country  Max Temp      Lat      Lng  \\\n",
       "0      493         Aripuana      BR     70.23  -9.1667 -60.6333   \n",
       "1      493         Aripuana      BR     70.23  -9.1667 -60.6333   \n",
       "2      463  Puerto Quijarro      BO     71.87 -17.7833 -57.7667   \n",
       "3      628          Humaita      BR     70.25  -7.5061 -63.0208   \n",
       "4      543       Diamantino      BR     70.11 -14.4086 -56.4461   \n",
       "\n",
       "              Hotel Name  \n",
       "0         No hotel found  \n",
       "1         No hotel found  \n",
       "2         No hotel found  \n",
       "3  Humaita Quality Hotel  \n",
       "4           Hotel kayaby  "
      ]
     },
     "execution_count": 58,
     "metadata": {},
     "output_type": "execute_result"
    }
   ],
   "source": [
    "# Use the Pandas concat function to create a new DataFrame to store the itinerary details.\n",
    "itinerary_df = pd.concat([vacation_start,vacation_end,vacation_stop1,vacation_stop2,vacation_stop3],ignore_index=True)\n",
    "\n",
    "\n",
    "\n",
    "# Display sample data\n",
    "itinerary_df"
   ]
  },
  {
   "cell_type": "code",
   "execution_count": 59,
   "id": "e165e43d",
   "metadata": {},
   "outputs": [
    {
     "data": {
      "text/html": [
       "<div>\n",
       "<style scoped>\n",
       "    .dataframe tbody tr th:only-of-type {\n",
       "        vertical-align: middle;\n",
       "    }\n",
       "\n",
       "    .dataframe tbody tr th {\n",
       "        vertical-align: top;\n",
       "    }\n",
       "\n",
       "    .dataframe thead th {\n",
       "        text-align: right;\n",
       "    }\n",
       "</style>\n",
       "<table border=\"1\" class=\"dataframe\">\n",
       "  <thead>\n",
       "    <tr style=\"text-align: right;\">\n",
       "      <th></th>\n",
       "      <th>Lat</th>\n",
       "      <th>Lng</th>\n",
       "    </tr>\n",
       "  </thead>\n",
       "  <tbody>\n",
       "    <tr>\n",
       "      <th>0</th>\n",
       "      <td>-9.1667</td>\n",
       "      <td>-60.6333</td>\n",
       "    </tr>\n",
       "    <tr>\n",
       "      <th>1</th>\n",
       "      <td>-9.1667</td>\n",
       "      <td>-60.6333</td>\n",
       "    </tr>\n",
       "    <tr>\n",
       "      <th>2</th>\n",
       "      <td>-17.7833</td>\n",
       "      <td>-57.7667</td>\n",
       "    </tr>\n",
       "    <tr>\n",
       "      <th>3</th>\n",
       "      <td>-7.5061</td>\n",
       "      <td>-63.0208</td>\n",
       "    </tr>\n",
       "    <tr>\n",
       "      <th>4</th>\n",
       "      <td>-14.4086</td>\n",
       "      <td>-56.4461</td>\n",
       "    </tr>\n",
       "  </tbody>\n",
       "</table>\n",
       "</div>"
      ],
      "text/plain": [
       "       Lat      Lng\n",
       "0  -9.1667 -60.6333\n",
       "1  -9.1667 -60.6333\n",
       "2 -17.7833 -57.7667\n",
       "3  -7.5061 -63.0208\n",
       "4 -14.4086 -56.4461"
      ]
     },
     "execution_count": 59,
     "metadata": {},
     "output_type": "execute_result"
    }
   ],
   "source": [
    "# Create a Pandas DataFrame to store the latitude and longitude for each city in the itineray\n",
    "waypoints_df =itinerary_df[[\"Lat\", \"Lng\"]] \n",
    "# Display sample data\n",
    "waypoints_df"
   ]
  },
  {
   "cell_type": "code",
   "execution_count": 68,
   "id": "448a9ed9",
   "metadata": {},
   "outputs": [],
   "source": [
    "\n",
    "\n",
    "# Configure the map plot by using the itineraty_df\n",
    "waypoints_map =itinerary_df.hvplot.points(\n",
    "    \"Lng\",\n",
    "    \"Lat\",\n",
    "    geo = True,\n",
    "    tiles = \"OSM\",\n",
    "    frame_width = 700,\n",
    "    frame_height = 500,\n",
    "    size = \"Max Temp\",\n",
    "    scale = 0.5,\n",
    "    color = \"City\"\n",
    ")"
   ]
  },
  {
   "cell_type": "code",
   "execution_count": 71,
   "id": "4220c2aa",
   "metadata": {
    "scrolled": true
   },
   "outputs": [
    {
     "data": {},
     "metadata": {},
     "output_type": "display_data"
    },
    {
     "data": {
      "application/vnd.holoviews_exec.v0+json": "",
      "text/html": [
       "<div id='2926'>\n",
       "  <div class=\"bk-root\" id=\"914994c0-ea00-4de0-a692-ca5a0dfad4f7\" data-root-id=\"2926\"></div>\n",
       "</div>\n",
       "<script type=\"application/javascript\">(function(root) {\n",
       "  function embed_document(root) {\n",
       "    var docs_json = {\"14b5efa2-a441-428b-8914-e052f1c8c645\":{\"defs\":[{\"extends\":null,\"module\":null,\"name\":\"ReactiveHTML1\",\"overrides\":[],\"properties\":[]},{\"extends\":null,\"module\":null,\"name\":\"FlexBox1\",\"overrides\":[],\"properties\":[{\"default\":\"flex-start\",\"kind\":null,\"name\":\"align_content\"},{\"default\":\"flex-start\",\"kind\":null,\"name\":\"align_items\"},{\"default\":\"row\",\"kind\":null,\"name\":\"flex_direction\"},{\"default\":\"wrap\",\"kind\":null,\"name\":\"flex_wrap\"},{\"default\":\"flex-start\",\"kind\":null,\"name\":\"justify_content\"}]},{\"extends\":null,\"module\":null,\"name\":\"GridStack1\",\"overrides\":[],\"properties\":[{\"default\":\"warn\",\"kind\":null,\"name\":\"mode\"},{\"default\":null,\"kind\":null,\"name\":\"ncols\"},{\"default\":null,\"kind\":null,\"name\":\"nrows\"},{\"default\":true,\"kind\":null,\"name\":\"allow_resize\"},{\"default\":true,\"kind\":null,\"name\":\"allow_drag\"},{\"default\":[],\"kind\":null,\"name\":\"state\"}]},{\"extends\":null,\"module\":null,\"name\":\"click1\",\"overrides\":[],\"properties\":[{\"default\":\"\",\"kind\":null,\"name\":\"terminal_output\"},{\"default\":\"\",\"kind\":null,\"name\":\"debug_name\"},{\"default\":0,\"kind\":null,\"name\":\"clears\"}]},{\"extends\":null,\"module\":null,\"name\":\"NotificationAreaBase1\",\"overrides\":[],\"properties\":[{\"default\":\"bottom-right\",\"kind\":null,\"name\":\"position\"},{\"default\":0,\"kind\":null,\"name\":\"_clear\"}]},{\"extends\":null,\"module\":null,\"name\":\"NotificationArea1\",\"overrides\":[],\"properties\":[{\"default\":[],\"kind\":null,\"name\":\"notifications\"},{\"default\":\"bottom-right\",\"kind\":null,\"name\":\"position\"},{\"default\":0,\"kind\":null,\"name\":\"_clear\"},{\"default\":[{\"background\":\"#ffc107\",\"icon\":{\"className\":\"fas fa-exclamation-triangle\",\"color\":\"white\",\"tagName\":\"i\"},\"type\":\"warning\"},{\"background\":\"#007bff\",\"icon\":{\"className\":\"fas fa-info-circle\",\"color\":\"white\",\"tagName\":\"i\"},\"type\":\"info\"}],\"kind\":null,\"name\":\"types\"}]},{\"extends\":null,\"module\":null,\"name\":\"Notification\",\"overrides\":[],\"properties\":[{\"default\":null,\"kind\":null,\"name\":\"background\"},{\"default\":3000,\"kind\":null,\"name\":\"duration\"},{\"default\":null,\"kind\":null,\"name\":\"icon\"},{\"default\":\"\",\"kind\":null,\"name\":\"message\"},{\"default\":null,\"kind\":null,\"name\":\"notification_type\"},{\"default\":false,\"kind\":null,\"name\":\"_destroyed\"}]},{\"extends\":null,\"module\":null,\"name\":\"TemplateActions1\",\"overrides\":[],\"properties\":[{\"default\":0,\"kind\":null,\"name\":\"open_modal\"},{\"default\":0,\"kind\":null,\"name\":\"close_modal\"}]},{\"extends\":null,\"module\":null,\"name\":\"MaterialTemplateActions1\",\"overrides\":[],\"properties\":[{\"default\":0,\"kind\":null,\"name\":\"open_modal\"},{\"default\":0,\"kind\":null,\"name\":\"close_modal\"}]}],\"roots\":{\"references\":[{\"attributes\":{\"fill_alpha\":{\"value\":0.1},\"fill_color\":{\"field\":\"color\",\"transform\":{\"id\":\"3002\"}},\"hatch_alpha\":{\"value\":0.1},\"hatch_color\":{\"field\":\"color\",\"transform\":{\"id\":\"3002\"}},\"line_alpha\":{\"value\":0.1},\"line_color\":{\"field\":\"color\",\"transform\":{\"id\":\"3002\"}},\"size\":{\"field\":\"size\"},\"x\":{\"field\":\"Lng\"},\"y\":{\"field\":\"Lat\"}},\"id\":\"3007\",\"type\":\"Scatter\"},{\"attributes\":{\"end\":-5663149.221465421,\"min_interval\":5,\"reset_end\":-5663149.221465421,\"reset_start\":-7635845.253185514,\"start\":-7635845.253185514,\"tags\":[[[\"Lng\",\"Lng\",null]]]},\"id\":\"2932\",\"type\":\"Range1d\"},{\"attributes\":{},\"id\":\"2960\",\"type\":\"ResetTool\"},{\"attributes\":{\"match_aspect\":true,\"overlay\":{\"id\":\"2961\"}},\"id\":\"2959\",\"type\":\"BoxZoomTool\"},{\"attributes\":{\"label\":{\"field\":\"color\"},\"renderers\":[{\"id\":\"3011\"}]},\"id\":\"3020\",\"type\":\"LegendItem\"},{\"attributes\":{},\"id\":\"2977\",\"type\":\"AllLabels\"},{\"attributes\":{\"children\":[{\"id\":\"2927\"},{\"id\":\"2939\"},{\"id\":\"3029\"}],\"margin\":[0,0,0,0],\"name\":\"Row03467\",\"tags\":[\"embedded\"]},\"id\":\"2926\",\"type\":\"Row\"},{\"attributes\":{\"attribution\":\"&copy; <a href=\\\"https://www.openstreetmap.org/copyright\\\">OpenStreetMap</a> contributors\",\"url\":\"https://c.tile.openstreetmap.org/{Z}/{X}/{Y}.png\"},\"id\":\"2997\",\"type\":\"WMTSTileSource\"},{\"attributes\":{\"coordinates\":null,\"group\":null,\"text_color\":\"black\",\"text_font_size\":\"12pt\"},\"id\":\"2940\",\"type\":\"Title\"},{\"attributes\":{\"fill_color\":{\"field\":\"color\",\"transform\":{\"id\":\"3002\"}},\"hatch_color\":{\"field\":\"color\",\"transform\":{\"id\":\"3002\"}},\"line_color\":{\"field\":\"color\",\"transform\":{\"id\":\"3002\"}},\"size\":{\"field\":\"size\"},\"x\":{\"field\":\"Lng\"},\"y\":{\"field\":\"Lat\"}},\"id\":\"3009\",\"type\":\"Scatter\"},{\"attributes\":{\"fill_alpha\":{\"value\":0.2},\"fill_color\":{\"field\":\"color\",\"transform\":{\"id\":\"3002\"}},\"hatch_alpha\":{\"value\":0.2},\"hatch_color\":{\"field\":\"color\",\"transform\":{\"id\":\"3002\"}},\"line_alpha\":{\"value\":0.2},\"line_color\":{\"field\":\"color\",\"transform\":{\"id\":\"3002\"}},\"size\":{\"field\":\"size\"},\"x\":{\"field\":\"Lng\"},\"y\":{\"field\":\"Lat\"}},\"id\":\"3010\",\"type\":\"Scatter\"},{\"attributes\":{\"fill_color\":{\"field\":\"color\",\"transform\":{\"id\":\"3002\"}},\"hatch_color\":{\"field\":\"color\",\"transform\":{\"id\":\"3002\"}},\"line_color\":{\"field\":\"color\",\"transform\":{\"id\":\"3002\"}},\"size\":{\"field\":\"size\"},\"x\":{\"field\":\"Lng\"},\"y\":{\"field\":\"Lat\"}},\"id\":\"3006\",\"type\":\"Scatter\"},{\"attributes\":{},\"id\":\"2946\",\"type\":\"LinearScale\"},{\"attributes\":{\"tools\":[{\"id\":\"2936\"},{\"id\":\"2956\"},{\"id\":\"2957\"},{\"id\":\"2958\"},{\"id\":\"2959\"},{\"id\":\"2960\"}]},\"id\":\"2962\",\"type\":\"Toolbar\"},{\"attributes\":{\"axis_label\":\"y\",\"coordinates\":null,\"formatter\":{\"id\":\"2974\"},\"group\":null,\"major_label_policy\":{\"id\":\"2984\"},\"ticker\":{\"id\":\"2973\"}},\"id\":\"2952\",\"type\":\"LinearAxis\"},{\"attributes\":{\"axis_label\":\"x\",\"coordinates\":null,\"formatter\":{\"id\":\"2972\"},\"group\":null,\"major_label_policy\":{\"id\":\"2977\"},\"ticker\":{\"id\":\"2971\"}},\"id\":\"2948\",\"type\":\"LinearAxis\"},{\"attributes\":{\"bottom_units\":\"screen\",\"coordinates\":null,\"fill_alpha\":0.5,\"fill_color\":\"lightgrey\",\"group\":null,\"left_units\":\"screen\",\"level\":\"overlay\",\"line_alpha\":1.0,\"line_color\":\"black\",\"line_dash\":[4,4],\"line_width\":2,\"right_units\":\"screen\",\"syncable\":false,\"top_units\":\"screen\"},\"id\":\"2961\",\"type\":\"BoxAnnotation\"},{\"attributes\":{\"coordinates\":null,\"group\":null,\"level\":\"glyph\",\"tile_source\":{\"id\":\"2997\"}},\"id\":\"3000\",\"type\":\"TileRenderer\"},{\"attributes\":{},\"id\":\"2984\",\"type\":\"AllLabels\"},{\"attributes\":{},\"id\":\"2944\",\"type\":\"LinearScale\"},{\"attributes\":{\"dimension\":\"lat\"},\"id\":\"2974\",\"type\":\"MercatorTickFormatter\"},{\"attributes\":{\"axis\":{\"id\":\"2952\"},\"coordinates\":null,\"dimension\":1,\"grid_line_color\":null,\"group\":null,\"ticker\":null},\"id\":\"2955\",\"type\":\"Grid\"},{\"attributes\":{\"dimension\":\"lon\"},\"id\":\"2971\",\"type\":\"MercatorTicker\"},{\"attributes\":{\"margin\":[5,5,5,5],\"name\":\"HSpacer03471\",\"sizing_mode\":\"stretch_width\"},\"id\":\"2927\",\"type\":\"Spacer\"},{\"attributes\":{\"source\":{\"id\":\"3003\"}},\"id\":\"3012\",\"type\":\"CDSView\"},{\"attributes\":{\"coordinates\":null,\"data_source\":{\"id\":\"3003\"},\"glyph\":{\"id\":\"3006\"},\"group\":null,\"hover_glyph\":{\"id\":\"3009\"},\"muted_glyph\":{\"id\":\"3010\"},\"nonselection_glyph\":{\"id\":\"3007\"},\"selection_glyph\":{\"id\":\"3008\"},\"view\":{\"id\":\"3012\"}},\"id\":\"3011\",\"type\":\"GlyphRenderer\"},{\"attributes\":{\"callback\":null,\"formatters\":{\"$x\":{\"id\":\"3021\"},\"$y\":{\"id\":\"3022\"}},\"renderers\":[{\"id\":\"3011\"}],\"tags\":[\"hv_created\"],\"tooltips\":[[\"Lng\",\"$x{custom}\"],[\"Lat\",\"$y{custom}\"],[\"City\",\"@{City}\"],[\"Max Temp\",\"@{Max_Temp}\"]]},\"id\":\"2936\",\"type\":\"HoverTool\"},{\"attributes\":{\"dimension\":\"lat\"},\"id\":\"2973\",\"type\":\"MercatorTicker\"},{\"attributes\":{\"code\":\"\\n        var projections = Bokeh.require(\\\"core/util/projections\\\");\\n        var x = special_vars.data_x\\n        var y = special_vars.data_y\\n        if (projections.wgs84_mercator.invert == null) {\\n          var coords = projections.wgs84_mercator.inverse([x, y])\\n        } else {\\n          var coords = projections.wgs84_mercator.invert(x, y)\\n        }\\n        return \\\"\\\" + (coords[0]).toFixed(4)\\n    \"},\"id\":\"3021\",\"type\":\"CustomJSHover\"},{\"attributes\":{\"data\":{\"City\":[\"Aripuana\",\"Aripuana\",\"Puerto Quijarro\",\"Humaita\",\"Diamantino\"],\"Lat\":{\"__ndarray__\":\"cIcSY1tGL8FwhxJjW0YvwZhf/7MntD7B6BCCSq+SKcFC1OBHkLw4wQ==\",\"dtype\":\"float64\",\"order\":\"little\",\"shape\":[5]},\"Lng\":{\"__ndarray__\":\"TQAxBXm/WcFNADEFeb9ZwQ5jPujXh1jBqXZi1wTDWsGpN/7GR/hXwQ==\",\"dtype\":\"float64\",\"order\":\"little\",\"shape\":[5]},\"Max_Temp\":{\"__ndarray__\":\"H4XrUbiOUUAfhetRuI5RQEjhehSu91FAAAAAAACQUUDXo3A9CodRQA==\",\"dtype\":\"float64\",\"order\":\"little\",\"shape\":[5]},\"color\":[\"Aripuana\",\"Aripuana\",\"Puerto Quijarro\",\"Humaita\",\"Diamantino\"],\"size\":{\"__ndarray__\":\"2vNwJ7vCEEDa83Anu8IQQFXv8EqK9BBAPjkVjFfDEEB828dTEL8QQA==\",\"dtype\":\"float64\",\"order\":\"little\",\"shape\":[5]}},\"selected\":{\"id\":\"3004\"},\"selection_policy\":{\"id\":\"3016\"}},\"id\":\"3003\",\"type\":\"ColumnDataSource\"},{\"attributes\":{},\"id\":\"3004\",\"type\":\"Selection\"},{\"attributes\":{\"end\":-720553.3749647294,\"min_interval\":5,\"reset_end\":-720553.3749647294,\"reset_start\":-2129621.9690505103,\"start\":-2129621.9690505103,\"tags\":[[[\"Lat\",\"Lat\",null]]]},\"id\":\"2933\",\"type\":\"Range1d\"},{\"attributes\":{\"click_policy\":\"mute\",\"coordinates\":null,\"group\":null,\"items\":[{\"id\":\"3020\"}],\"location\":[0,0]},\"id\":\"3019\",\"type\":\"Legend\"},{\"attributes\":{\"axis\":{\"id\":\"2948\"},\"coordinates\":null,\"grid_line_color\":null,\"group\":null,\"ticker\":null},\"id\":\"2951\",\"type\":\"Grid\"},{\"attributes\":{\"factors\":[\"Aripuana\",\"Puerto Quijarro\",\"Humaita\",\"Diamantino\"],\"palette\":[\"#1f77b3\",\"#ff7e0e\",\"#2ba02b\",\"#d62628\"]},\"id\":\"3002\",\"type\":\"CategoricalColorMapper\"},{\"attributes\":{\"below\":[{\"id\":\"2948\"}],\"center\":[{\"id\":\"2951\"},{\"id\":\"2955\"}],\"frame_height\":500,\"frame_width\":700,\"height\":null,\"left\":[{\"id\":\"2952\"}],\"margin\":[5,5,5,5],\"match_aspect\":true,\"min_border_bottom\":10,\"min_border_left\":10,\"min_border_right\":10,\"min_border_top\":10,\"renderers\":[{\"id\":\"3000\"},{\"id\":\"3011\"}],\"right\":[{\"id\":\"3019\"}],\"sizing_mode\":\"fixed\",\"title\":{\"id\":\"2940\"},\"toolbar\":{\"id\":\"2962\"},\"width\":null,\"x_range\":{\"id\":\"2932\"},\"x_scale\":{\"id\":\"2944\"},\"y_range\":{\"id\":\"2933\"},\"y_scale\":{\"id\":\"2946\"}},\"id\":\"2939\",\"subtype\":\"Figure\",\"type\":\"Plot\"},{\"attributes\":{},\"id\":\"2956\",\"type\":\"SaveTool\"},{\"attributes\":{\"fill_color\":{\"field\":\"color\",\"transform\":{\"id\":\"3002\"}},\"hatch_color\":{\"field\":\"color\",\"transform\":{\"id\":\"3002\"}},\"line_color\":{\"field\":\"color\",\"transform\":{\"id\":\"3002\"}},\"size\":{\"field\":\"size\"},\"x\":{\"field\":\"Lng\"},\"y\":{\"field\":\"Lat\"}},\"id\":\"3008\",\"type\":\"Scatter\"},{\"attributes\":{},\"id\":\"2957\",\"type\":\"PanTool\"},{\"attributes\":{\"code\":\"\\n        var projections = Bokeh.require(\\\"core/util/projections\\\");\\n        var x = special_vars.data_x\\n        var y = special_vars.data_y\\n        if (projections.wgs84_mercator.invert == null) {\\n          var coords = projections.wgs84_mercator.inverse([x, y])\\n        } else {\\n          var coords = projections.wgs84_mercator.invert(x, y)\\n        }\\n        return \\\"\\\" + (coords[1]).toFixed(4)\\n    \"},\"id\":\"3022\",\"type\":\"CustomJSHover\"},{\"attributes\":{\"margin\":[5,5,5,5],\"name\":\"HSpacer03472\",\"sizing_mode\":\"stretch_width\"},\"id\":\"3029\",\"type\":\"Spacer\"},{\"attributes\":{\"dimension\":\"lon\"},\"id\":\"2972\",\"type\":\"MercatorTickFormatter\"},{\"attributes\":{\"zoom_on_axis\":false},\"id\":\"2958\",\"type\":\"WheelZoomTool\"},{\"attributes\":{},\"id\":\"3016\",\"type\":\"UnionRenderers\"}],\"root_ids\":[\"2926\"]},\"title\":\"Bokeh Application\",\"version\":\"2.4.3\"}};\n",
       "    var render_items = [{\"docid\":\"14b5efa2-a441-428b-8914-e052f1c8c645\",\"root_ids\":[\"2926\"],\"roots\":{\"2926\":\"914994c0-ea00-4de0-a692-ca5a0dfad4f7\"}}];\n",
       "    root.Bokeh.embed.embed_items_notebook(docs_json, render_items);\n",
       "  }\n",
       "  if (root.Bokeh !== undefined && root.Bokeh.Panel !== undefined) {\n",
       "    embed_document(root);\n",
       "  } else {\n",
       "    var attempts = 0;\n",
       "    var timer = setInterval(function(root) {\n",
       "      if (root.Bokeh !== undefined && root.Bokeh.Panel !== undefined) {\n",
       "        clearInterval(timer);\n",
       "        embed_document(root);\n",
       "      } else if (document.readyState == \"complete\") {\n",
       "        attempts++;\n",
       "        if (attempts > 200) {\n",
       "          clearInterval(timer);\n",
       "          console.log(\"Bokeh: ERROR: Unable to run BokehJS code because BokehJS library is missing\");\n",
       "        }\n",
       "      }\n",
       "    }, 25, root)\n",
       "  }\n",
       "})(window);</script>"
      ],
      "text/plain": [
       ":Overlay\n",
       "   .Tiles.I  :Tiles   [x,y]\n",
       "   .Points.I :Points   [Lng,Lat]   (City,Max Temp)"
      ]
     },
     "execution_count": 71,
     "metadata": {
      "application/vnd.holoviews_exec.v0+json": {
       "id": "2926"
      }
     },
     "output_type": "execute_result"
    }
   ],
   "source": [
    "# Display the route_map\n",
    "waypoints_map"
   ]
  },
  {
   "cell_type": "code",
   "execution_count": 62,
   "id": "4c9068ed",
   "metadata": {},
   "outputs": [],
   "source": [
    "# Set parameters to trace the route\n",
    "radius = 5000\n",
    "params = {\n",
    "    \"mode\":\"drive\",\n",
    "    \"apiKey\": geoapify_key,\n",
    "}"
   ]
  },
  {
   "cell_type": "code",
   "execution_count": 72,
   "id": "95e13fba",
   "metadata": {},
   "outputs": [
    {
     "data": {
      "text/plain": [
       "{'mode': 'drive',\n",
       " 'apiKey': 'd093adac963b4fa9a80f12e9c4cee13b',\n",
       " 'waypoints': '-9.1667,-60.6333|-9.1667,-60.6333|-17.7833,-57.7667|-7.5061,-63.0208|-14.4086,-56.4461'}"
      ]
     },
     "execution_count": 72,
     "metadata": {},
     "output_type": "execute_result"
    }
   ],
   "source": [
    "# Set an empty waypoints String variable\n",
    "waypoints = \"\"\n",
    "\n",
    "# Iterate through the route_df DataFrame to define the waypoints\n",
    "for index, row in waypoints_df.iterrows():\n",
    "    waypoints = waypoints + str(row[\"Lat\"]) + \",\" + str(row[\"Lng\"]) + \"|\"\n",
    "\n",
    "# Delete the last character from the string\n",
    "waypoints = waypoints[:-1]\n",
    "\n",
    "# Add the waypoints to the params dictionary\n",
    "params[\"waypoints\"] = waypoints\n",
    "\n",
    "# Display the params dictionary\n",
    "params"
   ]
  },
  {
   "cell_type": "code",
   "execution_count": 74,
   "id": "e664bdab",
   "metadata": {},
   "outputs": [
    {
     "data": {
      "text/plain": [
       "dict_keys(['features', 'properties', 'type'])"
      ]
     },
     "execution_count": 74,
     "metadata": {},
     "output_type": "execute_result"
    }
   ],
   "source": [
    "# Set up the base URL for the Geoapify Places API.\n",
    "base_url = \"https://api.geoapify.com/v1/routing\"\n",
    "\n",
    "# Make request and retrieve the JSON data by using the params dictionaty\n",
    "route_response=requests.get(base_url, params=params)\n",
    "\n",
    "# Convert the API response to JSON format\n",
    "route_response =route_response.json()\n",
    "\n",
    "route_response.keys()"
   ]
  },
  {
   "cell_type": "code",
   "execution_count": 65,
   "id": "6a265126",
   "metadata": {
    "scrolled": true
   },
   "outputs": [
    {
     "ename": "KeyError",
     "evalue": "'legs'",
     "output_type": "error",
     "traceback": [
      "\u001b[1;31m---------------------------------------------------------------------------\u001b[0m",
      "\u001b[1;31mKeyError\u001b[0m                                  Traceback (most recent call last)",
      "\u001b[1;32m~\\AppData\\Local\\Temp\\ipykernel_26260\\1723465684.py\u001b[0m in \u001b[0;36m<module>\u001b[1;34m\u001b[0m\n\u001b[0;32m      1\u001b[0m \u001b[1;31m# Fetch the route's legs coordinates from the JSON reponse\u001b[0m\u001b[1;33m\u001b[0m\u001b[1;33m\u001b[0m\u001b[1;33m\u001b[0m\u001b[0m\n\u001b[1;32m----> 2\u001b[1;33m \u001b[0mlegs\u001b[0m \u001b[1;33m=\u001b[0m \u001b[0mroute_response\u001b[0m\u001b[1;33m[\u001b[0m\u001b[1;34m'legs'\u001b[0m\u001b[1;33m]\u001b[0m\u001b[1;33m\u001b[0m\u001b[1;33m\u001b[0m\u001b[0m\n\u001b[0m",
      "\u001b[1;31mKeyError\u001b[0m: 'legs'"
     ]
    }
   ],
   "source": [
    "# Fetch the route's legs coordinates from the JSON reponse\n",
    "legs = route_response['legs']"
   ]
  },
  {
   "cell_type": "code",
   "execution_count": 17,
   "id": "a9876fe8",
   "metadata": {},
   "outputs": [],
   "source": [
    "# Create and empty list to store the longitude of each step\n",
    "# YOUR CODE HERE\n",
    "\n",
    "# Create and empty list to store the latitude of step\n",
    "# YOUR CODE HERE\n",
    "\n",
    "# Loop through the legs coordinates to fetch the latitude and longitude for each step\n",
    "# YOUR CODE HERE"
   ]
  },
  {
   "cell_type": "code",
   "execution_count": 18,
   "id": "9c4d9e97",
   "metadata": {},
   "outputs": [
    {
     "ename": "SyntaxError",
     "evalue": "invalid syntax (2377073273.py, line 2)",
     "output_type": "error",
     "traceback": [
      "\u001b[1;36m  File \u001b[1;32m\"C:\\Users\\mitzy\\AppData\\Local\\Temp\\ipykernel_26260\\2377073273.py\"\u001b[1;36m, line \u001b[1;32m2\u001b[0m\n\u001b[1;33m    route_path = # YOUR CODE HERE\u001b[0m\n\u001b[1;37m                                 ^\u001b[0m\n\u001b[1;31mSyntaxError\u001b[0m\u001b[1;31m:\u001b[0m invalid syntax\n"
     ]
    }
   ],
   "source": [
    "# Configure the route path by using the GeoViews' Path function\n",
    "route_path = # YOUR CODE HERE"
   ]
  },
  {
   "cell_type": "code",
   "execution_count": null,
   "id": "2326ab44",
   "metadata": {},
   "outputs": [],
   "source": [
    "# Display a composed plot by using the route_map and route_path objects\n",
    "# YOUR CODE HERE"
   ]
  }
 ],
 "metadata": {
  "kernelspec": {
   "display_name": "PythonData",
   "language": "python",
   "name": "pythondata"
  },
  "language_info": {
   "codemirror_mode": {
    "name": "ipython",
    "version": 3
   },
   "file_extension": ".py",
   "mimetype": "text/x-python",
   "name": "python",
   "nbconvert_exporter": "python",
   "pygments_lexer": "ipython3",
   "version": "3.7.13"
  }
 },
 "nbformat": 4,
 "nbformat_minor": 5
}
