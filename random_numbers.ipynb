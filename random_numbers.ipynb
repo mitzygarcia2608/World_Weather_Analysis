{
 "cells": [
  {
   "cell_type": "code",
   "execution_count": 2,
   "id": "7317e595",
   "metadata": {},
   "outputs": [],
   "source": [
    "#import the random module\n",
    "import random\n",
    "    "
   ]
  },
  {
   "cell_type": "code",
   "execution_count": 3,
   "id": "c2c93acf",
   "metadata": {},
   "outputs": [
    {
     "data": {
      "text/plain": [
       "-36"
      ]
     },
     "execution_count": 3,
     "metadata": {},
     "output_type": "execute_result"
    }
   ],
   "source": [
    "random.randint(-90,90)"
   ]
  },
  {
   "cell_type": "raw",
   "id": "55b67daa",
   "metadata": {},
   "source": [
    "            "
   ]
  },
  {
   "cell_type": "code",
   "execution_count": 4,
   "id": "0863d1ba",
   "metadata": {},
   "outputs": [
    {
     "data": {
      "text/plain": [
       "0.9915066364373211"
      ]
     },
     "execution_count": 4,
     "metadata": {},
     "output_type": "execute_result"
    }
   ],
   "source": [
    "random.random()"
   ]
  },
  {
   "cell_type": "code",
   "execution_count": 5,
   "id": "0078ad08",
   "metadata": {},
   "outputs": [
    {
     "data": {
      "text/plain": [
       "-7.628943607515325"
      ]
     },
     "execution_count": 5,
     "metadata": {},
     "output_type": "execute_result"
    }
   ],
   "source": [
    "random_number  = random.randint(-90,90)  + random.random()\n",
    "random_number"
   ]
  },
  {
   "cell_type": "code",
   "execution_count": 10,
   "id": "add582b0",
   "metadata": {},
   "outputs": [
    {
     "data": {
      "text/plain": [
       "[-86.62165997826399,\n",
       " -2.3404156984102786,\n",
       " 84.35931709675972,\n",
       " -39.51859839424308,\n",
       " -74.7568369111143,\n",
       " -15.000609486893133,\n",
       " -14.23888448956374,\n",
       " 13.426213657688661,\n",
       " -46.766707467535184,\n",
       " -55.739451590320975]"
      ]
     },
     "execution_count": 10,
     "metadata": {},
     "output_type": "execute_result"
    }
   ],
   "source": [
    "x=1\n",
    "latitudes =[]\n",
    "while x <11:\n",
    "    random_lat=random.randint(-90,89) + random.random()\n",
    "    latitudes.append(random_lat)\n",
    "    x += 1\n",
    "    \n",
    "latitudes"
   ]
  },
  {
   "cell_type": "code",
   "execution_count": 11,
   "id": "af7d0d6c",
   "metadata": {},
   "outputs": [
    {
     "data": {
      "text/plain": [
       "-53"
      ]
     },
     "execution_count": 11,
     "metadata": {},
     "output_type": "execute_result"
    }
   ],
   "source": [
    "random.randrange(-90,90,step=1)"
   ]
  },
  {
   "cell_type": "code",
   "execution_count": 12,
   "id": "e7c95362",
   "metadata": {},
   "outputs": [
    {
     "data": {
      "text/plain": [
       "-78"
      ]
     },
     "execution_count": 12,
     "metadata": {},
     "output_type": "execute_result"
    }
   ],
   "source": [
    "random.randrange(-90,90,step=3)"
   ]
  },
  {
   "cell_type": "code",
   "execution_count": 1,
   "id": "ad14407a",
   "metadata": {},
   "outputs": [
    {
     "ename": "NameError",
     "evalue": "name 'random' is not defined",
     "output_type": "error",
     "traceback": [
      "\u001b[1;31m---------------------------------------------------------------------------\u001b[0m",
      "\u001b[1;31mNameError\u001b[0m                                 Traceback (most recent call last)",
      "\u001b[1;32m~\\AppData\\Local\\Temp\\ipykernel_26252\\4186789804.py\u001b[0m in \u001b[0;36m<module>\u001b[1;34m\u001b[0m\n\u001b[1;32m----> 1\u001b[1;33m \u001b[0mrandom\u001b[0m\u001b[1;33m.\u001b[0m\u001b[0muniform\u001b[0m\u001b[1;33m(\u001b[0m\u001b[1;33m-\u001b[0m\u001b[1;36m90\u001b[0m\u001b[1;33m,\u001b[0m\u001b[1;36m90\u001b[0m\u001b[1;33m)\u001b[0m\u001b[1;33m\u001b[0m\u001b[1;33m\u001b[0m\u001b[0m\n\u001b[0m",
      "\u001b[1;31mNameError\u001b[0m: name 'random' is not defined"
     ]
    }
   ],
   "source": [
    "random.uniform(-90,90)"
   ]
  },
  {
   "cell_type": "code",
   "execution_count": 2,
   "id": "05f7ff58",
   "metadata": {},
   "outputs": [],
   "source": [
    "#import the Numpy module.\n",
    "import numpy as np"
   ]
  },
  {
   "cell_type": "code",
   "execution_count": 15,
   "id": "dd569a7e",
   "metadata": {},
   "outputs": [
    {
     "data": {
      "text/plain": [
       "-42.90086384494501"
      ]
     },
     "execution_count": 15,
     "metadata": {},
     "output_type": "execute_result"
    }
   ],
   "source": [
    "np.random.uniform(-90.000 , 90.000)"
   ]
  },
  {
   "cell_type": "code",
   "execution_count": 16,
   "id": "9e897d33",
   "metadata": {},
   "outputs": [
    {
     "data": {
      "text/plain": [
       "array([-14.14900347, -89.61078632,   0.39242493, -44.8721232 ,\n",
       "        39.0496577 ,  -9.47742214,   6.57083008, -47.47151881,\n",
       "        77.85811115, -85.40516471,   2.63853436,  40.1917928 ,\n",
       "        32.44810199, -10.94649804, -25.32338456,  88.70006786,\n",
       "        13.23616208,  35.24799741, -22.26303902, -20.36343749,\n",
       "       -89.12596063, -44.39989725,  45.71688518, -60.6268867 ,\n",
       "        61.56400686,  33.58517587, -83.70297279,  43.92389745,\n",
       "       -78.48366259,   8.54355785, -50.22858918, -19.82436369,\n",
       "       -43.58407323, -16.10120659,  19.17496471, -33.61248551,\n",
       "        -4.30907141,  16.11892905, -75.20131065, -75.40347523,\n",
       "        50.22522457,  46.44772549,  43.79998269,  46.6369801 ,\n",
       "       -20.09494378,   8.16230897,  81.26547018, -72.15595961,\n",
       "       -77.44074379, -87.86362132])"
      ]
     },
     "execution_count": 16,
     "metadata": {},
     "output_type": "execute_result"
    }
   ],
   "source": [
    "np.random.uniform(-90.000,90.000, size=50)"
   ]
  },
  {
   "cell_type": "code",
   "execution_count": 17,
   "id": "052b8d95",
   "metadata": {},
   "outputs": [],
   "source": [
    "#import timeit.\n",
    "import timeit"
   ]
  },
  {
   "cell_type": "code",
   "execution_count": 19,
   "id": "77ceb940",
   "metadata": {},
   "outputs": [
    {
     "name": "stdout",
     "output_type": "stream",
     "text": [
      "62.2 µs ± 19.5 µs per loop (mean ± std. dev. of 7 runs, 10000 loops each)\n"
     ]
    }
   ],
   "source": [
    "%timeit np.random.uniform(-90.000,90.000 , size=1500)"
   ]
  },
  {
   "cell_type": "code",
   "execution_count": 20,
   "id": "7dd1227d",
   "metadata": {},
   "outputs": [
    {
     "name": "stdout",
     "output_type": "stream",
     "text": [
      "6.74 ms ± 824 µs per loop (mean ± std. dev. of 7 runs, 100 loops each)\n"
     ]
    }
   ],
   "source": [
    "def latitudes(size):\n",
    "    latitudes=[]\n",
    "    x=0\n",
    "    while x<(size):\n",
    "        random_lat = random.randint(-90,90) + random.random()\n",
    "        latitudes.append(random_lat)\n",
    "        x+=1\n",
    "    return latitudes\n",
    "#call the function with 1500.\n",
    "%timeit latitudes(1500)"
   ]
  },
  {
   "cell_type": "code",
   "execution_count": null,
   "id": "1eef42eb",
   "metadata": {},
   "outputs": [],
   "source": []
  }
 ],
 "metadata": {
  "kernelspec": {
   "display_name": "PythonData",
   "language": "python",
   "name": "pythondata"
  },
  "language_info": {
   "codemirror_mode": {
    "name": "ipython",
    "version": 3
   },
   "file_extension": ".py",
   "mimetype": "text/x-python",
   "name": "python",
   "nbconvert_exporter": "python",
   "pygments_lexer": "ipython3",
   "version": "3.7.13"
  }
 },
 "nbformat": 4,
 "nbformat_minor": 5
}
